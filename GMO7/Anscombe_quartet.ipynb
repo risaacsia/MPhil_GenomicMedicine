{
  "cells": [
    {
      "cell_type": "markdown",
      "metadata": {
        "id": "view-in-github",
        "colab_type": "text"
      },
      "source": [
        "<a href=\"https://colab.research.google.com/github/risaacsia/MPhil_GenomicMedicine/blob/main/GMO7/Anscombe_quartet.ipynb\" target=\"_parent\"><img src=\"https://colab.research.google.com/assets/colab-badge.svg\" alt=\"Open In Colab\"/></a>"
      ]
    },
    {
      "cell_type": "markdown",
      "source": [
        "# Anscombe's quartet\n",
        "\n",
        "Anscombe's quartet comprises of four datasets, and is rather famous. Why? You'll find out in this exercise."
      ],
      "metadata": {
        "id": "22kKYOgy1q1b"
      },
      "id": "22kKYOgy1q1b"
    },
    {
      "cell_type": "markdown",
      "source": [
        "We met the Anscombe quartet in *Research Skills 3: Data Fallacies*. If you have not watched the lecture yet then please do so before going any further."
      ],
      "metadata": {
        "id": "k1rMosKDuowU"
      },
      "id": "k1rMosKDuowU"
    },
    {
      "cell_type": "markdown",
      "source": [
        "First you need to read in the data. The data for the Anscombe quartet is hosted on the GMO7 GitHub page, but how do we get data hosted on the internet into R?! The answer is surprisingly simple. All we have to do is put the URL for the raw data in the place of a file location in our data import function. In this example we will use the base r `read.csv()` function but you could use the tidyverse `read_csv()` function to do the same import."
      ],
      "metadata": {
        "id": "4mA2D4rVtL2x"
      },
      "id": "4mA2D4rVtL2x"
    },
    {
      "cell_type": "code",
      "source": [
        "AQ <- read.csv(\"https://raw.githubusercontent.com/camgenomicmedicine/GMO7-Jupyter/main/data/anscombe-quartet.csv\")"
      ],
      "metadata": {
        "id": "4rs7AKYktDOS"
      },
      "id": "4rs7AKYktDOS",
      "execution_count": 1,
      "outputs": []
    },
    {
      "cell_type": "code",
      "source": [
        "head(AQ)"
      ],
      "metadata": {
        "colab": {
          "base_uri": "https://localhost:8080/",
          "height": 283
        },
        "id": "oUfYNIp_1YYL",
        "outputId": "7f9ac9db-669f-4138-ab16-85ebf10d12e0"
      },
      "id": "oUfYNIp_1YYL",
      "execution_count": 2,
      "outputs": [
        {
          "output_type": "display_data",
          "data": {
            "text/html": [
              "<table class=\"dataframe\">\n",
              "<caption>A data.frame: 6 × 3</caption>\n",
              "<thead>\n",
              "\t<tr><th></th><th scope=col>dataset</th><th scope=col>x</th><th scope=col>y</th></tr>\n",
              "\t<tr><th></th><th scope=col>&lt;chr&gt;</th><th scope=col>&lt;dbl&gt;</th><th scope=col>&lt;dbl&gt;</th></tr>\n",
              "</thead>\n",
              "<tbody>\n",
              "\t<tr><th scope=row>1</th><td>I</td><td>10</td><td>8.04</td></tr>\n",
              "\t<tr><th scope=row>2</th><td>I</td><td> 8</td><td>6.95</td></tr>\n",
              "\t<tr><th scope=row>3</th><td>I</td><td>13</td><td>7.58</td></tr>\n",
              "\t<tr><th scope=row>4</th><td>I</td><td> 9</td><td>8.81</td></tr>\n",
              "\t<tr><th scope=row>5</th><td>I</td><td>11</td><td>8.33</td></tr>\n",
              "\t<tr><th scope=row>6</th><td>I</td><td>14</td><td>9.96</td></tr>\n",
              "</tbody>\n",
              "</table>\n"
            ],
            "text/markdown": "\nA data.frame: 6 × 3\n\n| <!--/--> | dataset &lt;chr&gt; | x &lt;dbl&gt; | y &lt;dbl&gt; |\n|---|---|---|---|\n| 1 | I | 10 | 8.04 |\n| 2 | I |  8 | 6.95 |\n| 3 | I | 13 | 7.58 |\n| 4 | I |  9 | 8.81 |\n| 5 | I | 11 | 8.33 |\n| 6 | I | 14 | 9.96 |\n\n",
            "text/latex": "A data.frame: 6 × 3\n\\begin{tabular}{r|lll}\n  & dataset & x & y\\\\\n  & <chr> & <dbl> & <dbl>\\\\\n\\hline\n\t1 & I & 10 & 8.04\\\\\n\t2 & I &  8 & 6.95\\\\\n\t3 & I & 13 & 7.58\\\\\n\t4 & I &  9 & 8.81\\\\\n\t5 & I & 11 & 8.33\\\\\n\t6 & I & 14 & 9.96\\\\\n\\end{tabular}\n",
            "text/plain": [
              "  dataset x  y   \n",
              "1 I       10 8.04\n",
              "2 I        8 6.95\n",
              "3 I       13 7.58\n",
              "4 I        9 8.81\n",
              "5 I       11 8.33\n",
              "6 I       14 9.96"
            ]
          },
          "metadata": {}
        }
      ]
    },
    {
      "cell_type": "markdown",
      "source": [
        "## Part 1\n",
        "\n",
        "Using either the base r `plot()` function or `ggplot2()` make plots showing the four datasets that make up the Anscombe Quartet. See if you can do this with all four plots in the same plot space or placed side by side."
      ],
      "metadata": {
        "id": "ZV6wdl-037g5"
      },
      "id": "ZV6wdl-037g5"
    },
    {
      "cell_type": "code",
      "source": [
        "install.packages(\"tidyverse\")\n",
        "library(tidyverse)\n",
        "\n",
        "ggplot(AQ, aes(x=x,y=y,color=dataset)) +\n",
        "  geom_point()"
      ],
      "metadata": {
        "id": "BKKUK4jv4l89",
        "outputId": "898103ad-3ebb-415c-e68f-3c532ab2bf0c",
        "colab": {
          "base_uri": "https://localhost:8080/",
          "height": 488
        }
      },
      "id": "BKKUK4jv4l89",
      "execution_count": 6,
      "outputs": [
        {
          "output_type": "stream",
          "name": "stderr",
          "text": [
            "Installing package into ‘/usr/local/lib/R/site-library’\n",
            "(as ‘lib’ is unspecified)\n",
            "\n"
          ]
        },
        {
          "output_type": "display_data",
          "data": {
            "text/plain": [
              "plot without title"
            ],
            "image/png": "[encoded data removed]"
          },
          "metadata": {
            "image/png": {
              "width": 420,
              "height": 420
            }
          }
        }
      ]
    },
    {
      "cell_type": "markdown",
      "source": [
        "## Part 2\n",
        "\n",
        "For each of the four datasets...\n",
        " - Compute the mean and variance of both **x** and **y**\n",
        " - Compute the correlation coefficient between **x** and **y**\n",
        " - Compute the linear regression line: $y = \\beta_0 + \\beta_1 x + \\epsilon$"
      ],
      "metadata": {
        "id": "fOaxaUOv3kXJ"
      },
      "id": "fOaxaUOv3kXJ"
    },
    {
      "cell_type": "code",
      "source": [
        "mean(AQ$x)\n",
        "var(AQ$y)\n",
        "\n",
        "cor(AQ$x,AQ$y)\n",
        "\n",
        "lm(AQ$y~AQ$x)"
      ],
      "metadata": {
        "id": "FYPZDwWo4pgs",
        "outputId": "da208b34-aa81-448e-9801-dee4af44f002",
        "colab": {
          "base_uri": "https://localhost:8080/",
          "height": 187
        }
      },
      "id": "FYPZDwWo4pgs",
      "execution_count": 13,
      "outputs": [
        {
          "output_type": "display_data",
          "data": {
            "text/html": [
              "9"
            ],
            "text/markdown": "9",
            "text/latex": "9",
            "text/plain": [
              "[1] 9"
            ]
          },
          "metadata": {}
        },
        {
          "output_type": "display_data",
          "data": {
            "text/html": [
              "3.83738789640592"
            ],
            "text/markdown": "3.83738789640592",
            "text/latex": "3.83738789640592",
            "text/plain": [
              "[1] 3.837388"
            ]
          },
          "metadata": {}
        },
        {
          "output_type": "display_data",
          "data": {
            "text/html": [
              "0.81636624276147"
            ],
            "text/markdown": "0.81636624276147",
            "text/latex": "0.81636624276147",
            "text/plain": [
              "[1] 0.8163662"
            ]
          },
          "metadata": {}
        },
        {
          "output_type": "display_data",
          "data": {
            "text/plain": [
              "\n",
              "Call:\n",
              "lm(formula = AQ$y ~ AQ$x)\n",
              "\n",
              "Coefficients:\n",
              "(Intercept)         AQ$x  \n",
              "     3.0013       0.4999  \n"
            ]
          },
          "metadata": {}
        }
      ]
    }
  ],
  "metadata": {
    "kernelspec": {
      "display_name": "R",
      "language": "R",
      "name": "ir"
    },
    "language_info": {
      "codemirror_mode": "r",
      "file_extension": ".r",
      "mimetype": "text/x-r-source",
      "name": "R",
      "pygments_lexer": "r",
      "version": "3.5.1"
    },
    "colab": {
      "name": "Anscombe_quartet.ipynb",
      "provenance": [],
      "include_colab_link": true
    }
  },
  "nbformat": 4,
  "nbformat_minor": 5
}
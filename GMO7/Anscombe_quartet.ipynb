{
  "cells": [
    {
      "cell_type": "markdown",
      "metadata": {
        "id": "view-in-github",
        "colab_type": "text"
      },
      "source": [
        "<a href=\"https://colab.research.google.com/github/risaacsia/MPhil_GenomicMedicine/blob/main/GMO7/Anscombe_quartet.ipynb\" target=\"_parent\"><img src=\"https://colab.research.google.com/assets/colab-badge.svg\" alt=\"Open In Colab\"/></a>"
      ]
    },
    {
      "cell_type": "markdown",
      "source": [
        "# Anscombe's quartet\n",
        "\n",
        "Anscombe's quartet comprises of four datasets, and is rather famous. Why? You'll find out in this exercise."
      ],
      "metadata": {
        "id": "22kKYOgy1q1b"
      },
      "id": "22kKYOgy1q1b"
    },
    {
      "cell_type": "markdown",
      "source": [
        "We met the Anscombe quartet in *Research Skills 3: Data Fallacies*. If you have not watched the lecture yet then please do so before going any further."
      ],
      "metadata": {
        "id": "k1rMosKDuowU"
      },
      "id": "k1rMosKDuowU"
    },
    {
      "cell_type": "markdown",
      "source": [
        "First you need to read in the data. The data for the Anscombe quartet is hosted on the GMO7 GitHub page, but how do we get data hosted on the internet into R?! The answer is surprisingly simple. All we have to do is put the URL for the raw data in the place of a file location in our data import function. In this example we will use the base r `read.csv()` function but you could use the tidyverse `read_csv()` function to do the same import."
      ],
      "metadata": {
        "id": "4mA2D4rVtL2x"
      },
      "id": "4mA2D4rVtL2x"
    },
    {
      "cell_type": "code",
      "source": [
        "AQ <- read.csv(\"https://raw.githubusercontent.com/camgenomicmedicine/GMO7-Jupyter/main/data/anscombe-quartet.csv\")"
      ],
      "metadata": {
        "id": "4rs7AKYktDOS"
      },
      "id": "4rs7AKYktDOS",
      "execution_count": 3,
      "outputs": []
    },
    {
      "cell_type": "code",
      "source": [
        "head(AQ)"
      ],
      "metadata": {
        "colab": {
          "base_uri": "https://localhost:8080/",
          "height": 283
        },
        "id": "oUfYNIp_1YYL",
        "outputId": "0b396260-9bd4-474a-b1a1-f4c19f8a2a04"
      },
      "id": "oUfYNIp_1YYL",
      "execution_count": 4,
      "outputs": [
        {
          "output_type": "display_data",
          "data": {
            "text/html": [
              "<table class=\"dataframe\">\n",
              "<caption>A data.frame: 6 × 3</caption>\n",
              "<thead>\n",
              "\t<tr><th></th><th scope=col>dataset</th><th scope=col>x</th><th scope=col>y</th></tr>\n",
              "\t<tr><th></th><th scope=col>&lt;chr&gt;</th><th scope=col>&lt;dbl&gt;</th><th scope=col>&lt;dbl&gt;</th></tr>\n",
              "</thead>\n",
              "<tbody>\n",
              "\t<tr><th scope=row>1</th><td>I</td><td>10</td><td>8.04</td></tr>\n",
              "\t<tr><th scope=row>2</th><td>I</td><td> 8</td><td>6.95</td></tr>\n",
              "\t<tr><th scope=row>3</th><td>I</td><td>13</td><td>7.58</td></tr>\n",
              "\t<tr><th scope=row>4</th><td>I</td><td> 9</td><td>8.81</td></tr>\n",
              "\t<tr><th scope=row>5</th><td>I</td><td>11</td><td>8.33</td></tr>\n",
              "\t<tr><th scope=row>6</th><td>I</td><td>14</td><td>9.96</td></tr>\n",
              "</tbody>\n",
              "</table>\n"
            ],
            "text/markdown": "\nA data.frame: 6 × 3\n\n| <!--/--> | dataset &lt;chr&gt; | x &lt;dbl&gt; | y &lt;dbl&gt; |\n|---|---|---|---|\n| 1 | I | 10 | 8.04 |\n| 2 | I |  8 | 6.95 |\n| 3 | I | 13 | 7.58 |\n| 4 | I |  9 | 8.81 |\n| 5 | I | 11 | 8.33 |\n| 6 | I | 14 | 9.96 |\n\n",
            "text/latex": "A data.frame: 6 × 3\n\\begin{tabular}{r|lll}\n  & dataset & x & y\\\\\n  & <chr> & <dbl> & <dbl>\\\\\n\\hline\n\t1 & I & 10 & 8.04\\\\\n\t2 & I &  8 & 6.95\\\\\n\t3 & I & 13 & 7.58\\\\\n\t4 & I &  9 & 8.81\\\\\n\t5 & I & 11 & 8.33\\\\\n\t6 & I & 14 & 9.96\\\\\n\\end{tabular}\n",
            "text/plain": [
              "  dataset x  y   \n",
              "1 I       10 8.04\n",
              "2 I        8 6.95\n",
              "3 I       13 7.58\n",
              "4 I        9 8.81\n",
              "5 I       11 8.33\n",
              "6 I       14 9.96"
            ]
          },
          "metadata": {}
        }
      ]
    },
    {
      "cell_type": "markdown",
      "source": [
        "## Part 1\n",
        "\n",
        "Using either the base r `plot()` function or `ggplot2()` make plots showing the four datasets that make up the Anscombe Quartet. See if you can do this with all four plots in the same plot space or placed side by side."
      ],
      "metadata": {
        "id": "ZV6wdl-037g5"
      },
      "id": "ZV6wdl-037g5"
    },
    {
      "cell_type": "code",
      "source": [
        "install.packages(\"tidyverse\")\n",
        "library(tidyverse)\n",
        "\n",
        "AQ_I <- filter(AQ, dataset == \"I\")\n",
        "AQ_I %>%\n",
        "  ggplot(aes(x = x, y = y)) +\n",
        "  geom_point(color = \"blue\")\n",
        "\n",
        "AQ_II <- filter(AQ, dataset == \"II\")\n",
        "AQ_II\n",
        "AQ_III <- filter(AQ, dataset == \"III\")\n",
        "AQ_III\n",
        "AQ_IV <- filter(AQ, dataset == \"IV\")\n",
        "AQ_IV\n",
        "\n",
        "gAQ_I <- ggplot(AQ_I, aes(x = x, y = y)) + geom_point(color = \"blue\") + labs(title = \"I\")\n",
        "gAQ_II <- ggplot(AQ_II, aes(x = x, y = y)) + geom_point(color = \"red\") + labs(title = \"II\")\n",
        "gAQ_III <- ggplot(AQ_III, aes(x = x, y = y)) + geom_point(color = \"green\") + labs(title = \"III\")\n",
        "gAQ_IV <- ggplot(AQ_IV, aes(x = x, y = y)) + geom_point(color = \"black\") + labs(title = \"IV\")\n",
        "\n",
        "gAQ_I\n",
        "gAQ_II\n",
        "gAQ_III\n",
        "gAQ_IV"
      ],
      "metadata": {
        "id": "BKKUK4jv4l89",
        "outputId": "0d3bad0c-b456-4344-a3fa-39df4af7392e",
        "colab": {
          "base_uri": "https://localhost:8080/",
          "height": 1000
        }
      },
      "id": "BKKUK4jv4l89",
      "execution_count": 8,
      "outputs": [
        {
          "output_type": "stream",
          "name": "stderr",
          "text": [
            "Installing package into ‘/usr/local/lib/R/site-library’\n",
            "(as ‘lib’ is unspecified)\n",
            "\n"
          ]
        },
        {
          "output_type": "display_data",
          "data": {
            "text/html": [
              "<table class=\"dataframe\">\n",
              "<caption>A data.frame: 11 × 3</caption>\n",
              "<thead>\n",
              "\t<tr><th scope=col>dataset</th><th scope=col>x</th><th scope=col>y</th></tr>\n",
              "\t<tr><th scope=col>&lt;chr&gt;</th><th scope=col>&lt;dbl&gt;</th><th scope=col>&lt;dbl&gt;</th></tr>\n",
              "</thead>\n",
              "<tbody>\n",
              "\t<tr><td>II</td><td>10</td><td>9.14</td></tr>\n",
              "\t<tr><td>II</td><td> 8</td><td>8.14</td></tr>\n",
              "\t<tr><td>II</td><td>13</td><td>8.74</td></tr>\n",
              "\t<tr><td>II</td><td> 9</td><td>8.77</td></tr>\n",
              "\t<tr><td>II</td><td>11</td><td>9.26</td></tr>\n",
              "\t<tr><td>II</td><td>14</td><td>8.10</td></tr>\n",
              "\t<tr><td>II</td><td> 6</td><td>6.13</td></tr>\n",
              "\t<tr><td>II</td><td> 4</td><td>3.10</td></tr>\n",
              "\t<tr><td>II</td><td>12</td><td>9.13</td></tr>\n",
              "\t<tr><td>II</td><td> 7</td><td>7.26</td></tr>\n",
              "\t<tr><td>II</td><td> 5</td><td>4.74</td></tr>\n",
              "</tbody>\n",
              "</table>\n"
            ],
            "text/markdown": "\nA data.frame: 11 × 3\n\n| dataset &lt;chr&gt; | x &lt;dbl&gt; | y &lt;dbl&gt; |\n|---|---|---|\n| II | 10 | 9.14 |\n| II |  8 | 8.14 |\n| II | 13 | 8.74 |\n| II |  9 | 8.77 |\n| II | 11 | 9.26 |\n| II | 14 | 8.10 |\n| II |  6 | 6.13 |\n| II |  4 | 3.10 |\n| II | 12 | 9.13 |\n| II |  7 | 7.26 |\n| II |  5 | 4.74 |\n\n",
            "text/latex": "A data.frame: 11 × 3\n\\begin{tabular}{lll}\n dataset & x & y\\\\\n <chr> & <dbl> & <dbl>\\\\\n\\hline\n\t II & 10 & 9.14\\\\\n\t II &  8 & 8.14\\\\\n\t II & 13 & 8.74\\\\\n\t II &  9 & 8.77\\\\\n\t II & 11 & 9.26\\\\\n\t II & 14 & 8.10\\\\\n\t II &  6 & 6.13\\\\\n\t II &  4 & 3.10\\\\\n\t II & 12 & 9.13\\\\\n\t II &  7 & 7.26\\\\\n\t II &  5 & 4.74\\\\\n\\end{tabular}\n",
            "text/plain": [
              "   dataset x  y   \n",
              "1  II      10 9.14\n",
              "2  II       8 8.14\n",
              "3  II      13 8.74\n",
              "4  II       9 8.77\n",
              "5  II      11 9.26\n",
              "6  II      14 8.10\n",
              "7  II       6 6.13\n",
              "8  II       4 3.10\n",
              "9  II      12 9.13\n",
              "10 II       7 7.26\n",
              "11 II       5 4.74"
            ]
          },
          "metadata": {}
        },
        {
          "output_type": "display_data",
          "data": {
            "text/html": [
              "<table class=\"dataframe\">\n",
              "<caption>A data.frame: 11 × 3</caption>\n",
              "<thead>\n",
              "\t<tr><th scope=col>dataset</th><th scope=col>x</th><th scope=col>y</th></tr>\n",
              "\t<tr><th scope=col>&lt;chr&gt;</th><th scope=col>&lt;dbl&gt;</th><th scope=col>&lt;dbl&gt;</th></tr>\n",
              "</thead>\n",
              "<tbody>\n",
              "\t<tr><td>III</td><td>10</td><td> 7.46</td></tr>\n",
              "\t<tr><td>III</td><td> 8</td><td> 6.77</td></tr>\n",
              "\t<tr><td>III</td><td>13</td><td>12.74</td></tr>\n",
              "\t<tr><td>III</td><td> 9</td><td> 7.11</td></tr>\n",
              "\t<tr><td>III</td><td>11</td><td> 7.81</td></tr>\n",
              "\t<tr><td>III</td><td>14</td><td> 8.84</td></tr>\n",
              "\t<tr><td>III</td><td> 6</td><td> 6.08</td></tr>\n",
              "\t<tr><td>III</td><td> 4</td><td> 5.39</td></tr>\n",
              "\t<tr><td>III</td><td>12</td><td> 8.15</td></tr>\n",
              "\t<tr><td>III</td><td> 7</td><td> 6.42</td></tr>\n",
              "\t<tr><td>III</td><td> 5</td><td> 5.73</td></tr>\n",
              "</tbody>\n",
              "</table>\n"
            ],
            "text/markdown": "\nA data.frame: 11 × 3\n\n| dataset &lt;chr&gt; | x &lt;dbl&gt; | y &lt;dbl&gt; |\n|---|---|---|\n| III | 10 |  7.46 |\n| III |  8 |  6.77 |\n| III | 13 | 12.74 |\n| III |  9 |  7.11 |\n| III | 11 |  7.81 |\n| III | 14 |  8.84 |\n| III |  6 |  6.08 |\n| III |  4 |  5.39 |\n| III | 12 |  8.15 |\n| III |  7 |  6.42 |\n| III |  5 |  5.73 |\n\n",
            "text/latex": "A data.frame: 11 × 3\n\\begin{tabular}{lll}\n dataset & x & y\\\\\n <chr> & <dbl> & <dbl>\\\\\n\\hline\n\t III & 10 &  7.46\\\\\n\t III &  8 &  6.77\\\\\n\t III & 13 & 12.74\\\\\n\t III &  9 &  7.11\\\\\n\t III & 11 &  7.81\\\\\n\t III & 14 &  8.84\\\\\n\t III &  6 &  6.08\\\\\n\t III &  4 &  5.39\\\\\n\t III & 12 &  8.15\\\\\n\t III &  7 &  6.42\\\\\n\t III &  5 &  5.73\\\\\n\\end{tabular}\n",
            "text/plain": [
              "   dataset x  y    \n",
              "1  III     10  7.46\n",
              "2  III      8  6.77\n",
              "3  III     13 12.74\n",
              "4  III      9  7.11\n",
              "5  III     11  7.81\n",
              "6  III     14  8.84\n",
              "7  III      6  6.08\n",
              "8  III      4  5.39\n",
              "9  III     12  8.15\n",
              "10 III      7  6.42\n",
              "11 III      5  5.73"
            ]
          },
          "metadata": {}
        },
        {
          "output_type": "display_data",
          "data": {
            "text/html": [
              "<table class=\"dataframe\">\n",
              "<caption>A data.frame: 11 × 3</caption>\n",
              "<thead>\n",
              "\t<tr><th scope=col>dataset</th><th scope=col>x</th><th scope=col>y</th></tr>\n",
              "\t<tr><th scope=col>&lt;chr&gt;</th><th scope=col>&lt;dbl&gt;</th><th scope=col>&lt;dbl&gt;</th></tr>\n",
              "</thead>\n",
              "<tbody>\n",
              "\t<tr><td>IV</td><td> 8</td><td> 6.58</td></tr>\n",
              "\t<tr><td>IV</td><td> 8</td><td> 5.76</td></tr>\n",
              "\t<tr><td>IV</td><td> 8</td><td> 7.71</td></tr>\n",
              "\t<tr><td>IV</td><td> 8</td><td> 8.84</td></tr>\n",
              "\t<tr><td>IV</td><td> 8</td><td> 8.47</td></tr>\n",
              "\t<tr><td>IV</td><td> 8</td><td> 7.04</td></tr>\n",
              "\t<tr><td>IV</td><td> 8</td><td> 5.25</td></tr>\n",
              "\t<tr><td>IV</td><td>19</td><td>12.50</td></tr>\n",
              "\t<tr><td>IV</td><td> 8</td><td> 5.56</td></tr>\n",
              "\t<tr><td>IV</td><td> 8</td><td> 7.91</td></tr>\n",
              "\t<tr><td>IV</td><td> 8</td><td> 6.89</td></tr>\n",
              "</tbody>\n",
              "</table>\n"
            ],
            "text/markdown": "\nA data.frame: 11 × 3\n\n| dataset &lt;chr&gt; | x &lt;dbl&gt; | y &lt;dbl&gt; |\n|---|---|---|\n| IV |  8 |  6.58 |\n| IV |  8 |  5.76 |\n| IV |  8 |  7.71 |\n| IV |  8 |  8.84 |\n| IV |  8 |  8.47 |\n| IV |  8 |  7.04 |\n| IV |  8 |  5.25 |\n| IV | 19 | 12.50 |\n| IV |  8 |  5.56 |\n| IV |  8 |  7.91 |\n| IV |  8 |  6.89 |\n\n",
            "text/latex": "A data.frame: 11 × 3\n\\begin{tabular}{lll}\n dataset & x & y\\\\\n <chr> & <dbl> & <dbl>\\\\\n\\hline\n\t IV &  8 &  6.58\\\\\n\t IV &  8 &  5.76\\\\\n\t IV &  8 &  7.71\\\\\n\t IV &  8 &  8.84\\\\\n\t IV &  8 &  8.47\\\\\n\t IV &  8 &  7.04\\\\\n\t IV &  8 &  5.25\\\\\n\t IV & 19 & 12.50\\\\\n\t IV &  8 &  5.56\\\\\n\t IV &  8 &  7.91\\\\\n\t IV &  8 &  6.89\\\\\n\\end{tabular}\n",
            "text/plain": [
              "   dataset x  y    \n",
              "1  IV       8  6.58\n",
              "2  IV       8  5.76\n",
              "3  IV       8  7.71\n",
              "4  IV       8  8.84\n",
              "5  IV       8  8.47\n",
              "6  IV       8  7.04\n",
              "7  IV       8  5.25\n",
              "8  IV      19 12.50\n",
              "9  IV       8  5.56\n",
              "10 IV       8  7.91\n",
              "11 IV       8  6.89"
            ]
          },
          "metadata": {}
        },
        {
          "output_type": "display_data",
          "data": {
            "text/plain": [
              "plot without title"
            ],
            "image/png": "[encoded data removed]"
          },
          "metadata": {
            "image/png": {
              "width": 420,
              "height": 420
            }
          }
        },
        {
          "output_type": "display_data",
          "data": {
            "text/plain": [
              "plot without title"
            ],
            "image/png": "[encoded data removed]"
          },
          "metadata": {
            "image/png": {
              "width": 420,
              "height": 420
            }
          }
        },
        {
          "output_type": "display_data",
          "data": {
            "text/plain": [
              "plot without title"
            ],
            "image/png": "[encoded data removed]"
          },
          "metadata": {
            "image/png": {
              "width": 420,
              "height": 420
            }
          }
        },
        {
          "output_type": "display_data",
          "data": {
            "text/plain": [
              "plot without title"
            ],
            "image/png": "[encoded data removed]"
          },
          "metadata": {
            "image/png": {
              "width": 420,
              "height": 420
            }
          }
        },
        {
          "output_type": "display_data",
          "data": {
            "text/plain": [
              "plot without title"
            ],
            "image/png": "[encoded data removed]"
          },
          "metadata": {
            "image/png": {
              "width": 420,
              "height": 420
            }
          }
        }
      ]
    },
    {
      "cell_type": "markdown",
      "source": [
        "## Part 2\n",
        "\n",
        "For each of the four datasets...\n",
        " - Compute the mean and variance of both **x** and **y**\n",
        " - Compute the correlation coefficient between **x** and **y**\n",
        " - Compute the linear regression line: $y = \\beta_0 + \\beta_1 x + \\epsilon$"
      ],
      "metadata": {
        "id": "fOaxaUOv3kXJ"
      },
      "id": "fOaxaUOv3kXJ"
    },
    {
      "cell_type": "code",
      "source": [
        "mean.var <- AQ %>% group_by(dataset) %>% summarise(mean.x = mean(x), mean.y = mean(y), variance.x = var(x), variance.y = var(y))\n",
        "mean.var\n",
        "\n",
        "cor.AQI <- AQ %>% group_by(dataset) %>% summarise(corr = cor(x, y))\n",
        "cor.AQI\n",
        "\n",
        "lineI <- lm(AQ_I$y ~ AQ_I$x)\n",
        "lineI\n",
        "\n",
        "lineII <- lm(AQ_II$y ~ AQ_II$x)\n",
        "lineII\n",
        "\n",
        "lineIII <- lm(AQ_III$y ~ AQ_III$x)\n",
        "lineIII\n",
        "\n",
        "lineIV <- lm(AQ_IV$y ~ AQ_IV$x)\n",
        "lineIV"
      ],
      "metadata": {
        "id": "FYPZDwWo4pgs",
        "outputId": "9a1562dc-1914-496a-84a6-5b5f1e726324",
        "colab": {
          "base_uri": "https://localhost:8080/",
          "height": 901
        }
      },
      "id": "FYPZDwWo4pgs",
      "execution_count": 9,
      "outputs": [
        {
          "output_type": "display_data",
          "data": {
            "text/html": [
              "<table class=\"dataframe\">\n",
              "<caption>A tibble: 4 × 5</caption>\n",
              "<thead>\n",
              "\t<tr><th scope=col>dataset</th><th scope=col>mean.x</th><th scope=col>mean.y</th><th scope=col>variance.x</th><th scope=col>variance.y</th></tr>\n",
              "\t<tr><th scope=col>&lt;chr&gt;</th><th scope=col>&lt;dbl&gt;</th><th scope=col>&lt;dbl&gt;</th><th scope=col>&lt;dbl&gt;</th><th scope=col>&lt;dbl&gt;</th></tr>\n",
              "</thead>\n",
              "<tbody>\n",
              "\t<tr><td>I  </td><td>9</td><td>7.500909</td><td>11</td><td>4.127269</td></tr>\n",
              "\t<tr><td>II </td><td>9</td><td>7.500909</td><td>11</td><td>4.127629</td></tr>\n",
              "\t<tr><td>III</td><td>9</td><td>7.500000</td><td>11</td><td>4.122620</td></tr>\n",
              "\t<tr><td>IV </td><td>9</td><td>7.500909</td><td>11</td><td>4.123249</td></tr>\n",
              "</tbody>\n",
              "</table>\n"
            ],
            "text/markdown": "\nA tibble: 4 × 5\n\n| dataset &lt;chr&gt; | mean.x &lt;dbl&gt; | mean.y &lt;dbl&gt; | variance.x &lt;dbl&gt; | variance.y &lt;dbl&gt; |\n|---|---|---|---|---|\n| I   | 9 | 7.500909 | 11 | 4.127269 |\n| II  | 9 | 7.500909 | 11 | 4.127629 |\n| III | 9 | 7.500000 | 11 | 4.122620 |\n| IV  | 9 | 7.500909 | 11 | 4.123249 |\n\n",
            "text/latex": "A tibble: 4 × 5\n\\begin{tabular}{lllll}\n dataset & mean.x & mean.y & variance.x & variance.y\\\\\n <chr> & <dbl> & <dbl> & <dbl> & <dbl>\\\\\n\\hline\n\t I   & 9 & 7.500909 & 11 & 4.127269\\\\\n\t II  & 9 & 7.500909 & 11 & 4.127629\\\\\n\t III & 9 & 7.500000 & 11 & 4.122620\\\\\n\t IV  & 9 & 7.500909 & 11 & 4.123249\\\\\n\\end{tabular}\n",
            "text/plain": [
              "  dataset mean.x mean.y   variance.x variance.y\n",
              "1 I       9      7.500909 11         4.127269  \n",
              "2 II      9      7.500909 11         4.127629  \n",
              "3 III     9      7.500000 11         4.122620  \n",
              "4 IV      9      7.500909 11         4.123249  "
            ]
          },
          "metadata": {}
        },
        {
          "output_type": "display_data",
          "data": {
            "text/html": [
              "<table class=\"dataframe\">\n",
              "<caption>A tibble: 4 × 2</caption>\n",
              "<thead>\n",
              "\t<tr><th scope=col>dataset</th><th scope=col>corr</th></tr>\n",
              "\t<tr><th scope=col>&lt;chr&gt;</th><th scope=col>&lt;dbl&gt;</th></tr>\n",
              "</thead>\n",
              "<tbody>\n",
              "\t<tr><td>I  </td><td>0.8164205</td></tr>\n",
              "\t<tr><td>II </td><td>0.8162365</td></tr>\n",
              "\t<tr><td>III</td><td>0.8162867</td></tr>\n",
              "\t<tr><td>IV </td><td>0.8165214</td></tr>\n",
              "</tbody>\n",
              "</table>\n"
            ],
            "text/markdown": "\nA tibble: 4 × 2\n\n| dataset &lt;chr&gt; | corr &lt;dbl&gt; |\n|---|---|\n| I   | 0.8164205 |\n| II  | 0.8162365 |\n| III | 0.8162867 |\n| IV  | 0.8165214 |\n\n",
            "text/latex": "A tibble: 4 × 2\n\\begin{tabular}{ll}\n dataset & corr\\\\\n <chr> & <dbl>\\\\\n\\hline\n\t I   & 0.8164205\\\\\n\t II  & 0.8162365\\\\\n\t III & 0.8162867\\\\\n\t IV  & 0.8165214\\\\\n\\end{tabular}\n",
            "text/plain": [
              "  dataset corr     \n",
              "1 I       0.8164205\n",
              "2 II      0.8162365\n",
              "3 III     0.8162867\n",
              "4 IV      0.8165214"
            ]
          },
          "metadata": {}
        },
        {
          "output_type": "display_data",
          "data": {
            "text/plain": [
              "\n",
              "Call:\n",
              "lm(formula = AQ_I$y ~ AQ_I$x)\n",
              "\n",
              "Coefficients:\n",
              "(Intercept)       AQ_I$x  \n",
              "     3.0001       0.5001  \n"
            ]
          },
          "metadata": {}
        },
        {
          "output_type": "display_data",
          "data": {
            "text/plain": [
              "\n",
              "Call:\n",
              "lm(formula = AQ_II$y ~ AQ_II$x)\n",
              "\n",
              "Coefficients:\n",
              "(Intercept)      AQ_II$x  \n",
              "      3.001        0.500  \n"
            ]
          },
          "metadata": {}
        },
        {
          "output_type": "display_data",
          "data": {
            "text/plain": [
              "\n",
              "Call:\n",
              "lm(formula = AQ_III$y ~ AQ_III$x)\n",
              "\n",
              "Coefficients:\n",
              "(Intercept)     AQ_III$x  \n",
              "     3.0025       0.4997  \n"
            ]
          },
          "metadata": {}
        },
        {
          "output_type": "display_data",
          "data": {
            "text/plain": [
              "\n",
              "Call:\n",
              "lm(formula = AQ_IV$y ~ AQ_IV$x)\n",
              "\n",
              "Coefficients:\n",
              "(Intercept)      AQ_IV$x  \n",
              "     3.0017       0.4999  \n"
            ]
          },
          "metadata": {}
        }
      ]
    }
  ],
  "metadata": {
    "kernelspec": {
      "display_name": "R",
      "language": "R",
      "name": "ir"
    },
    "language_info": {
      "codemirror_mode": "r",
      "file_extension": ".r",
      "mimetype": "text/x-r-source",
      "name": "R",
      "pygments_lexer": "r",
      "version": "3.5.1"
    },
    "colab": {
      "name": "Anscombe_quartet.ipynb",
      "provenance": [],
      "include_colab_link": true
    }
  },
  "nbformat": 4,
  "nbformat_minor": 5
}